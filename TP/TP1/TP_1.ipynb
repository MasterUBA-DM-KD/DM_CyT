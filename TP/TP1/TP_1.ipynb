{
  "cells": [
    {
      "cell_type": "markdown",
      "metadata": {
        "id": "BC6epxcxYdBT"
      },
      "source": [
        "## Instala los paquetes"
      ]
    },
    {
      "cell_type": "code",
      "execution_count": null,
      "metadata": {
        "colab": {
          "base_uri": "https://localhost:8080/"
        },
        "id": "UIBu6bqqYdBU",
        "outputId": "7639ed58-5693-41da-f673-3003e8b41257"
      },
      "outputs": [
        {
          "name": "stdout",
          "output_type": "stream",
          "text": [
            "Collecting Clustimage\n",
            "  Downloading clustimage-1.5.20-py3-none-any.whl (38 kB)\n",
            "Collecting datazets>=0.1.7 (from Clustimage)\n",
            "  Downloading datazets-0.1.8-py3-none-any.whl (10 kB)\n",
            "Collecting scatterd>=1.3.6 (from Clustimage)\n",
            "  Downloading scatterd-1.3.7-py3-none-any.whl (12 kB)\n",
            "Collecting ismember (from Clustimage)\n",
            "  Downloading ismember-1.0.2-py3-none-any.whl (7.5 kB)\n",
            "Collecting pypickle (from Clustimage)\n",
            "  Downloading pypickle-1.1.0-py3-none-any.whl (5.1 kB)\n",
            "Collecting pca>=2.0.4 (from Clustimage)\n",
            "  Downloading pca-2.0.5-py3-none-any.whl (35 kB)\n",
            "Collecting distfit (from Clustimage)\n",
            "  Downloading distfit-1.6.12-py3-none-any.whl (40 kB)\n",
            "\u001b[2K     \u001b[90m━━━━━━━━━━━━━━━━━━━━━━━━━━━━━━━━━━━━━━━━\u001b[0m \u001b[32m40.7/40.7 kB\u001b[0m \u001b[31m4.8 MB/s\u001b[0m eta \u001b[36m0:00:00\u001b[0m\n",
            "\u001b[?25hCollecting clusteval>=2.1.5 (from Clustimage)\n",
            "  Downloading clusteval-2.2.1-py3-none-any.whl (42 kB)\n",
            "\u001b[2K     \u001b[90m━━━━━━━━━━━━━━━━━━━━━━━━━━━━━━━━━━━━━━━━\u001b[0m \u001b[32m42.4/42.4 kB\u001b[0m \u001b[31m5.5 MB/s\u001b[0m eta \u001b[36m0:00:00\u001b[0m\n",
            "\u001b[?25hCollecting colourmap>=1.1.16 (from Clustimage)\n",
            "  Downloading colourmap-1.1.16-py3-none-any.whl (10 kB)\n",
            "Requirement already satisfied: numpy in /usr/local/lib/python3.10/dist-packages (from Clustimage) (1.23.5)\n",
            "Requirement already satisfied: pandas in /usr/local/lib/python3.10/dist-packages (from Clustimage) (1.5.3)\n",
            "Requirement already satisfied: tqdm in /usr/local/lib/python3.10/dist-packages (from Clustimage) (4.66.1)\n",
            "Requirement already satisfied: scikit-learn in /usr/local/lib/python3.10/dist-packages (from Clustimage) (1.2.2)\n",
            "Requirement already satisfied: scikit-image in /usr/local/lib/python3.10/dist-packages (from Clustimage) (0.19.3)\n",
            "Requirement already satisfied: matplotlib in /usr/local/lib/python3.10/dist-packages (from Clustimage) (3.7.1)\n",
            "Requirement already satisfied: scipy in /usr/local/lib/python3.10/dist-packages (from Clustimage) (1.11.3)\n",
            "Requirement already satisfied: opencv-python in /usr/local/lib/python3.10/dist-packages (from Clustimage) (4.8.0.76)\n",
            "Collecting imagehash (from Clustimage)\n",
            "  Downloading ImageHash-4.3.1-py2.py3-none-any.whl (296 kB)\n",
            "\u001b[2K     \u001b[90m━━━━━━━━━━━━━━━━━━━━━━━━━━━━━━━━━━━━━━\u001b[0m \u001b[32m296.5/296.5 kB\u001b[0m \u001b[31m10.7 MB/s\u001b[0m eta \u001b[36m0:00:00\u001b[0m\n",
            "\u001b[?25hRequirement already satisfied: seaborn in /usr/local/lib/python3.10/dist-packages (from clusteval>=2.1.5->Clustimage) (0.12.2)\n",
            "Requirement already satisfied: requests in /usr/local/lib/python3.10/dist-packages (from datazets>=0.1.7->Clustimage) (2.31.0)\n",
            "Requirement already satisfied: statsmodels in /usr/local/lib/python3.10/dist-packages (from pca>=2.0.4->Clustimage) (0.14.0)\n",
            "Collecting adjusttext (from pca>=2.0.4->Clustimage)\n",
            "  Downloading adjustText-0.8-py3-none-any.whl (9.1 kB)\n",
            "Requirement already satisfied: packaging in /usr/local/lib/python3.10/dist-packages (from distfit->Clustimage) (23.2)\n",
            "Requirement already satisfied: contourpy>=1.0.1 in /usr/local/lib/python3.10/dist-packages (from matplotlib->Clustimage) (1.1.1)\n",
            "Requirement already satisfied: cycler>=0.10 in /usr/local/lib/python3.10/dist-packages (from matplotlib->Clustimage) (0.12.0)\n",
            "Requirement already satisfied: fonttools>=4.22.0 in /usr/local/lib/python3.10/dist-packages (from matplotlib->Clustimage) (4.43.0)\n",
            "Requirement already satisfied: kiwisolver>=1.0.1 in /usr/local/lib/python3.10/dist-packages (from matplotlib->Clustimage) (1.4.5)\n",
            "Requirement already satisfied: pillow>=6.2.0 in /usr/local/lib/python3.10/dist-packages (from matplotlib->Clustimage) (9.4.0)\n",
            "Requirement already satisfied: pyparsing>=2.3.1 in /usr/local/lib/python3.10/dist-packages (from matplotlib->Clustimage) (3.1.1)\n",
            "Requirement already satisfied: python-dateutil>=2.7 in /usr/local/lib/python3.10/dist-packages (from matplotlib->Clustimage) (2.8.2)\n",
            "Requirement already satisfied: PyWavelets in /usr/local/lib/python3.10/dist-packages (from imagehash->Clustimage) (1.4.1)\n",
            "Requirement already satisfied: pytz>=2020.1 in /usr/local/lib/python3.10/dist-packages (from pandas->Clustimage) (2023.3.post1)\n",
            "Requirement already satisfied: networkx>=2.2 in /usr/local/lib/python3.10/dist-packages (from scikit-image->Clustimage) (3.1)\n",
            "Requirement already satisfied: imageio>=2.4.1 in /usr/local/lib/python3.10/dist-packages (from scikit-image->Clustimage) (2.31.5)\n",
            "Requirement already satisfied: tifffile>=2019.7.26 in /usr/local/lib/python3.10/dist-packages (from scikit-image->Clustimage) (2023.9.26)\n",
            "Requirement already satisfied: joblib>=1.1.1 in /usr/local/lib/python3.10/dist-packages (from scikit-learn->Clustimage) (1.3.2)\n",
            "Requirement already satisfied: threadpoolctl>=2.0.0 in /usr/local/lib/python3.10/dist-packages (from scikit-learn->Clustimage) (3.2.0)\n",
            "Requirement already satisfied: six>=1.5 in /usr/local/lib/python3.10/dist-packages (from python-dateutil>=2.7->matplotlib->Clustimage) (1.16.0)\n",
            "Requirement already satisfied: charset-normalizer<4,>=2 in /usr/local/lib/python3.10/dist-packages (from requests->datazets>=0.1.7->Clustimage) (3.3.0)\n",
            "Requirement already satisfied: idna<4,>=2.5 in /usr/local/lib/python3.10/dist-packages (from requests->datazets>=0.1.7->Clustimage) (3.4)\n",
            "Requirement already satisfied: urllib3<3,>=1.21.1 in /usr/local/lib/python3.10/dist-packages (from requests->datazets>=0.1.7->Clustimage) (2.0.6)\n",
            "Requirement already satisfied: certifi>=2017.4.17 in /usr/local/lib/python3.10/dist-packages (from requests->datazets>=0.1.7->Clustimage) (2023.7.22)\n",
            "Requirement already satisfied: patsy>=0.5.2 in /usr/local/lib/python3.10/dist-packages (from statsmodels->pca>=2.0.4->Clustimage) (0.5.3)\n",
            "Installing collected packages: pypickle, ismember, imagehash, datazets, colourmap, adjusttext, scatterd, distfit, pca, clusteval, Clustimage\n",
            "Successfully installed Clustimage-1.5.20 adjusttext-0.8 clusteval-2.2.1 colourmap-1.1.16 datazets-0.1.8 distfit-1.6.12 imagehash-4.3.1 ismember-1.0.2 pca-2.0.5 pypickle-1.1.0 scatterd-1.3.7\n"
          ]
        }
      ],
      "source": [
        "!pip install Clustimage"
      ]
    },
    {
      "cell_type": "markdown",
      "metadata": {
        "id": "qU7s0LTFYdBV"
      },
      "source": [
        "## Descarga las imágenes\n",
        "\n",
        "#Link al dataset = https://www.muratkoklu.com/datasets/vtdhnd09.php\n",
        "#Si se pullea hay que bajar las imagenes y crear una carpeta Img con los 5 tipos separados"
      ]
    },
    {
      "cell_type": "code",
      "execution_count": null,
      "metadata": {
        "id": "N7dYfAv_YdBV"
      },
      "outputs": [],
      "source": [
        "!wget https://www.muratkoklu.com/datasets/vtdhnd09.php -P ./datasets/\n",
        "!unzip ./datasets/vtdhnd09.php -d ./datasets"
      ]
    },
    {
      "cell_type": "code",
      "execution_count": null,
      "metadata": {
        "id": "Ga6IapUPYyef"
      },
      "outputs": [],
      "source": [
        "!rm datasets/Rice_Image_Dataset/Rice_Citation_Request.txt"
      ]
    },
    {
      "cell_type": "code",
      "execution_count": null,
      "metadata": {
        "id": "_0zTyV7gYdBV"
      },
      "outputs": [],
      "source": [
        "from pathlib import Path\n",
        "from clustimage import Clustimage\n",
        "import cv2\n",
        "import matplotlib.pyplot as plt\n",
        "import pandas as pd\n",
        "import random\n",
        "import os\n",
        "import numpy as np\n",
        "from PIL import Image\n",
        "from scipy.ndimage import median_filter\n",
        "from scipy.ndimage import minimum_filter\n",
        "from scipy.ndimage import maximum_filter\n",
        "from matplotlib import cm\n",
        "from collections import OrderedDict\n",
        "import pickle\n",
        "\n",
        "N_IMAGES = 1000\n",
        "SEED = 42"
      ]
    },
    {
      "cell_type": "code",
      "execution_count": null,
      "metadata": {
        "id": "KrFSPIzSYdBV"
      },
      "outputs": [],
      "source": [
        "#Defino funciones:\n",
        "\n",
        "#Funcion para leer los archivos, lee \".png\" por defecto\n",
        "def leer_img(img_path,formato=\".png\"):\n",
        "  '''Función para leer los archivos\n",
        "  2 variables:\n",
        "  img_path: entrada con la ubicación de los archivos\n",
        "  formato (.png por defecto): formato de archivos a leer\n",
        "  devuelve una lista con los archivos y su path\n",
        "  '''\n",
        "  path = sorted([os.path.join(img_path, file)\n",
        "                for file in os.listdir(img_path)\n",
        "                if file.endswith(formato)])\n",
        "  print(\"Numero de imagenes cargadas: \",len(path))\n",
        "  print(\"Path obtenido: \",path[0])\n",
        "  return path\n",
        "\n",
        "#Funcion para verificar que los archivos sean todos del mismo tamaño (tamaño por defecto 128,128,3)\n",
        "def ver_tam(ubicacion, size=(128,128,3),max=255):\n",
        "  '''Función para verificar el tamaño de los archivos\n",
        "  2 variables:\n",
        "  ubicación: entrada con el nombre de los archivos y su ubicación (path completo)\n",
        "  size(tupla, por defecto 128,128,3) valor contra el cual comprar\n",
        "  devuelve una lista de archivos con la ubicación y nombre de los archivos\n",
        "  diferentes\n",
        "  '''\n",
        "  diferentes = [x for x in ubicacion if cv2.imread(x).shape != size]\n",
        "  if diferentes == []:\n",
        "    print(\"Los tamaños son: \", size)\n",
        "  else:\n",
        "    print(\"Diferentes: \")\n",
        "    for dife in diferentes:\n",
        "      print(\"Archivo: \",os.path.basename(dife),\"tamaño: \",cv2.imread(dife).shape)\n",
        "    return diferentes\n",
        "\n",
        "def r_max_min(ubicacion, rango=[0,255]): #Revisar esto y sumar max y min para que sea univoco\n",
        "  '''Función para verificar el el valor máximo de las matrices\n",
        "  2 variables:\n",
        "  ubicación: entrada con el nombre de los archivos y su ubicación (path completo)\n",
        "  max(int, por defecto 255) valor contra el cual comprar\n",
        "  devuelve una lista de archivos con la ubicación y nombre de los archivos\n",
        "  diferentes\n",
        "  '''\n",
        "  diferentes = [x for x in ubicacion if cv2.imread(x).max() > max(rango) or cv2.imread(x).min() < min(rango) ]\n",
        "  if diferentes == []:\n",
        "    print(\"El valor máximo es menor o igual: \", rango)\n",
        "  else:\n",
        "    print(\"Diferentes: \")\n",
        "    for dife in diferentes:\n",
        "      print(\"Archivo: \",os.path.basename(dife),\"tamaño: \",cv2.imread(dife).min(), cv2.imread(dife).max())\n",
        "    return diferentes\n",
        "\n",
        "def sum_sse(KM):\n",
        "  '''Suma cuadrada usando la .inertia_ del modelo'''\n",
        "  sse = 0\n",
        "  sse = (KM.inertia_)\n",
        "  return sse\n",
        "\n",
        "\n",
        "def vanDongen(ct):\n",
        "    n2=2*(sum(ct.apply(sum,axis=1)))\n",
        "    sumi = sum(ct.apply(np.max,axis=1))\n",
        "    sumj = sum(ct.apply(np.max,axis=0))\n",
        "    maxsumi = np.max(ct.apply(sum,axis=1))\n",
        "    maxsumj = np.max(ct.apply(sum,axis=0))\n",
        "    vd = (n2 - sumi - sumj)/(n2 - maxsumi - maxsumj)\n",
        "    return vd"
      ]
    },
    {
      "cell_type": "code",
      "execution_count": null,
      "metadata": {
        "id": "6gugTBTBYdBV"
      },
      "outputs": [],
      "source": [
        "dir_path = Path(\"./datasets/Rice_Image_Dataset/\")"
      ]
    },
    {
      "cell_type": "code",
      "execution_count": null,
      "metadata": {
        "colab": {
          "base_uri": "https://localhost:8080/"
        },
        "id": "48jy-kwCYdBV",
        "outputId": "9fe42962-0917-4b59-a5be-2e9d14954bbd"
      },
      "outputs": [
        {
          "name": "stdout",
          "output_type": "stream",
          "text": [
            "Numero de imagenes cargadas:  1000\n",
            "Path obtenido:  datasets/Rice_Image_Dataset/Karacadag/Karacadag (1).jpg\n",
            "Numero de imagenes cargadas:  1000\n",
            "Path obtenido:  datasets/Rice_Image_Dataset/Arborio/Arborio (1).jpg\n",
            "Numero de imagenes cargadas:  1000\n",
            "Path obtenido:  datasets/Rice_Image_Dataset/Jasmine/Jasmine (1).jpg\n",
            "Numero de imagenes cargadas:  1000\n",
            "Path obtenido:  datasets/Rice_Image_Dataset/Basmati/Basmati (1).jpg\n",
            "Numero de imagenes cargadas:  1000\n",
            "Path obtenido:  datasets/Rice_Image_Dataset/Ipsala/Ipsala (1).jpg\n"
          ]
        }
      ],
      "source": [
        "def leer_nimg(img_path,formato=\".png\",n=100):\n",
        "  '''Función para leer los archivos\n",
        "  2 variables:\n",
        "  img_path: entrada con la ubicación de los archivos\n",
        "  formato (.png por defecto): formato de archivos a leer\n",
        "  devuelve una lista con los archivos y su path\n",
        "  '''\n",
        "  path = sorted([os.path.join(img_path, file)\n",
        "                for file in os.listdir(img_path)\n",
        "                if file.endswith(formato)])\n",
        "  largo = len(path)\n",
        "  if n<largo:\n",
        "      path = path[:n]\n",
        "  print(\"Numero de imagenes cargadas: \",len(path))\n",
        "  print(\"Path obtenido: \",path[0])\n",
        "  return path\n",
        "\n",
        "\n",
        "completo = []\n",
        "for ct,directorio in enumerate(os.listdir(dir_path)):\n",
        "    path = leer_nimg(Path(dir_path / directorio),\".jpg\",N_IMAGES)\n",
        "    completo += path"
      ]
    },
    {
      "cell_type": "code",
      "execution_count": null,
      "metadata": {
        "colab": {
          "base_uri": "https://localhost:8080/"
        },
        "id": "kC1MTaS3YdBV",
        "outputId": "ed756e60-a82d-4cf4-c5d3-31efea26e785"
      },
      "outputs": [
        {
          "name": "stdout",
          "output_type": "stream",
          "text": [
            "Los tamaños son:  (250, 250, 3)\n"
          ]
        }
      ],
      "source": [
        "#Verificamos el tamño de las imagenes\n",
        "size = (250,250,3)\n",
        "diferentes = ver_tam(completo,size)\n",
        "#Verificamos el si los valores se encuentran en rango\n",
        "#ranguera = [0,255]\n",
        "#max_val = r_max_min(path,ranguera)"
      ]
    },
    {
      "cell_type": "code",
      "execution_count": null,
      "metadata": {
        "id": "WcU3Q_xWYdBV"
      },
      "outputs": [],
      "source": [
        "tipos = [\"Arborio\",\"Basmati\",\"Ipsala\",\"Jasmine\",\"Karacadag\"]\n",
        "\n",
        "para_labels = []\n",
        "\n",
        "for count,element in enumerate(tipos):\n",
        "    temp = [element]\n",
        "    para_labels += temp*N_IMAGES\n"
      ]
    },
    {
      "cell_type": "code",
      "execution_count": null,
      "metadata": {
        "colab": {
          "base_uri": "https://localhost:8080/"
        },
        "id": "g2WZ7ao8YdBV",
        "outputId": "fca2f8bb-6b5f-402a-dcdd-980e91991704"
      },
      "outputs": [
        {
          "data": {
            "text/plain": [
              "5000"
            ]
          },
          "execution_count": 10,
          "metadata": {},
          "output_type": "execute_result"
        }
      ],
      "source": [
        "len(para_labels)"
      ]
    },
    {
      "cell_type": "code",
      "execution_count": null,
      "metadata": {
        "id": "xjqRXfGIYdBW"
      },
      "outputs": [],
      "source": [
        "df_paths = pd.DataFrame(completo)"
      ]
    },
    {
      "cell_type": "code",
      "execution_count": null,
      "metadata": {
        "colab": {
          "base_uri": "https://localhost:8080/",
          "height": 206
        },
        "id": "MWciHqPsYdBW",
        "outputId": "ed1772d6-d573-44ef-f09a-3d28da6cd1a9"
      },
      "outputs": [
        {
          "data": {
            "text/html": [
              "\n",
              "  <div id=\"df-38250210-9d97-4b0c-8801-c86d9b3eb71e\" class=\"colab-df-container\">\n",
              "    <div>\n",
              "<style scoped>\n",
              "    .dataframe tbody tr th:only-of-type {\n",
              "        vertical-align: middle;\n",
              "    }\n",
              "\n",
              "    .dataframe tbody tr th {\n",
              "        vertical-align: top;\n",
              "    }\n",
              "\n",
              "    .dataframe thead th {\n",
              "        text-align: right;\n",
              "    }\n",
              "</style>\n",
              "<table border=\"1\" class=\"dataframe\">\n",
              "  <thead>\n",
              "    <tr style=\"text-align: right;\">\n",
              "      <th></th>\n",
              "      <th>0</th>\n",
              "    </tr>\n",
              "  </thead>\n",
              "  <tbody>\n",
              "    <tr>\n",
              "      <th>0</th>\n",
              "      <td>datasets/Rice_Image_Dataset/Karacadag/Karacada...</td>\n",
              "    </tr>\n",
              "    <tr>\n",
              "      <th>1</th>\n",
              "      <td>datasets/Rice_Image_Dataset/Karacadag/Karacada...</td>\n",
              "    </tr>\n",
              "    <tr>\n",
              "      <th>2</th>\n",
              "      <td>datasets/Rice_Image_Dataset/Karacadag/Karacada...</td>\n",
              "    </tr>\n",
              "    <tr>\n",
              "      <th>3</th>\n",
              "      <td>datasets/Rice_Image_Dataset/Karacadag/Karacada...</td>\n",
              "    </tr>\n",
              "    <tr>\n",
              "      <th>4</th>\n",
              "      <td>datasets/Rice_Image_Dataset/Karacadag/Karacada...</td>\n",
              "    </tr>\n",
              "  </tbody>\n",
              "</table>\n",
              "</div>\n",
              "    <div class=\"colab-df-buttons\">\n",
              "\n",
              "  <div class=\"colab-df-container\">\n",
              "    <button class=\"colab-df-convert\" onclick=\"convertToInteractive('df-38250210-9d97-4b0c-8801-c86d9b3eb71e')\"\n",
              "            title=\"Convert this dataframe to an interactive table.\"\n",
              "            style=\"display:none;\">\n",
              "\n",
              "  <svg xmlns=\"http://www.w3.org/2000/svg\" height=\"24px\" viewBox=\"0 -960 960 960\">\n",
              "    <path d=\"M120-120v-720h720v720H120Zm60-500h600v-160H180v160Zm220 220h160v-160H400v160Zm0 220h160v-160H400v160ZM180-400h160v-160H180v160Zm440 0h160v-160H620v160ZM180-180h160v-160H180v160Zm440 0h160v-160H620v160Z\"/>\n",
              "  </svg>\n",
              "    </button>\n",
              "\n",
              "  <style>\n",
              "    .colab-df-container {\n",
              "      display:flex;\n",
              "      gap: 12px;\n",
              "    }\n",
              "\n",
              "    .colab-df-convert {\n",
              "      background-color: #E8F0FE;\n",
              "      border: none;\n",
              "      border-radius: 50%;\n",
              "      cursor: pointer;\n",
              "      display: none;\n",
              "      fill: #1967D2;\n",
              "      height: 32px;\n",
              "      padding: 0 0 0 0;\n",
              "      width: 32px;\n",
              "    }\n",
              "\n",
              "    .colab-df-convert:hover {\n",
              "      background-color: #E2EBFA;\n",
              "      box-shadow: 0px 1px 2px rgba(60, 64, 67, 0.3), 0px 1px 3px 1px rgba(60, 64, 67, 0.15);\n",
              "      fill: #174EA6;\n",
              "    }\n",
              "\n",
              "    .colab-df-buttons div {\n",
              "      margin-bottom: 4px;\n",
              "    }\n",
              "\n",
              "    [theme=dark] .colab-df-convert {\n",
              "      background-color: #3B4455;\n",
              "      fill: #D2E3FC;\n",
              "    }\n",
              "\n",
              "    [theme=dark] .colab-df-convert:hover {\n",
              "      background-color: #434B5C;\n",
              "      box-shadow: 0px 1px 3px 1px rgba(0, 0, 0, 0.15);\n",
              "      filter: drop-shadow(0px 1px 2px rgba(0, 0, 0, 0.3));\n",
              "      fill: #FFFFFF;\n",
              "    }\n",
              "  </style>\n",
              "\n",
              "    <script>\n",
              "      const buttonEl =\n",
              "        document.querySelector('#df-38250210-9d97-4b0c-8801-c86d9b3eb71e button.colab-df-convert');\n",
              "      buttonEl.style.display =\n",
              "        google.colab.kernel.accessAllowed ? 'block' : 'none';\n",
              "\n",
              "      async function convertToInteractive(key) {\n",
              "        const element = document.querySelector('#df-38250210-9d97-4b0c-8801-c86d9b3eb71e');\n",
              "        const dataTable =\n",
              "          await google.colab.kernel.invokeFunction('convertToInteractive',\n",
              "                                                    [key], {});\n",
              "        if (!dataTable) return;\n",
              "\n",
              "        const docLinkHtml = 'Like what you see? Visit the ' +\n",
              "          '<a target=\"_blank\" href=https://colab.research.google.com/notebooks/data_table.ipynb>data table notebook</a>'\n",
              "          + ' to learn more about interactive tables.';\n",
              "        element.innerHTML = '';\n",
              "        dataTable['output_type'] = 'display_data';\n",
              "        await google.colab.output.renderOutput(dataTable, element);\n",
              "        const docLink = document.createElement('div');\n",
              "        docLink.innerHTML = docLinkHtml;\n",
              "        element.appendChild(docLink);\n",
              "      }\n",
              "    </script>\n",
              "  </div>\n",
              "\n",
              "\n",
              "<div id=\"df-b25e378b-c09a-48d6-acf9-8e95a0893b87\">\n",
              "  <button class=\"colab-df-quickchart\" onclick=\"quickchart('df-b25e378b-c09a-48d6-acf9-8e95a0893b87')\"\n",
              "            title=\"Suggest charts.\"\n",
              "            style=\"display:none;\">\n",
              "\n",
              "<svg xmlns=\"http://www.w3.org/2000/svg\" height=\"24px\"viewBox=\"0 0 24 24\"\n",
              "     width=\"24px\">\n",
              "    <g>\n",
              "        <path d=\"M19 3H5c-1.1 0-2 .9-2 2v14c0 1.1.9 2 2 2h14c1.1 0 2-.9 2-2V5c0-1.1-.9-2-2-2zM9 17H7v-7h2v7zm4 0h-2V7h2v10zm4 0h-2v-4h2v4z\"/>\n",
              "    </g>\n",
              "</svg>\n",
              "  </button>\n",
              "\n",
              "<style>\n",
              "  .colab-df-quickchart {\n",
              "      --bg-color: #E8F0FE;\n",
              "      --fill-color: #1967D2;\n",
              "      --hover-bg-color: #E2EBFA;\n",
              "      --hover-fill-color: #174EA6;\n",
              "      --disabled-fill-color: #AAA;\n",
              "      --disabled-bg-color: #DDD;\n",
              "  }\n",
              "\n",
              "  [theme=dark] .colab-df-quickchart {\n",
              "      --bg-color: #3B4455;\n",
              "      --fill-color: #D2E3FC;\n",
              "      --hover-bg-color: #434B5C;\n",
              "      --hover-fill-color: #FFFFFF;\n",
              "      --disabled-bg-color: #3B4455;\n",
              "      --disabled-fill-color: #666;\n",
              "  }\n",
              "\n",
              "  .colab-df-quickchart {\n",
              "    background-color: var(--bg-color);\n",
              "    border: none;\n",
              "    border-radius: 50%;\n",
              "    cursor: pointer;\n",
              "    display: none;\n",
              "    fill: var(--fill-color);\n",
              "    height: 32px;\n",
              "    padding: 0;\n",
              "    width: 32px;\n",
              "  }\n",
              "\n",
              "  .colab-df-quickchart:hover {\n",
              "    background-color: var(--hover-bg-color);\n",
              "    box-shadow: 0 1px 2px rgba(60, 64, 67, 0.3), 0 1px 3px 1px rgba(60, 64, 67, 0.15);\n",
              "    fill: var(--button-hover-fill-color);\n",
              "  }\n",
              "\n",
              "  .colab-df-quickchart-complete:disabled,\n",
              "  .colab-df-quickchart-complete:disabled:hover {\n",
              "    background-color: var(--disabled-bg-color);\n",
              "    fill: var(--disabled-fill-color);\n",
              "    box-shadow: none;\n",
              "  }\n",
              "\n",
              "  .colab-df-spinner {\n",
              "    border: 2px solid var(--fill-color);\n",
              "    border-color: transparent;\n",
              "    border-bottom-color: var(--fill-color);\n",
              "    animation:\n",
              "      spin 1s steps(1) infinite;\n",
              "  }\n",
              "\n",
              "  @keyframes spin {\n",
              "    0% {\n",
              "      border-color: transparent;\n",
              "      border-bottom-color: var(--fill-color);\n",
              "      border-left-color: var(--fill-color);\n",
              "    }\n",
              "    20% {\n",
              "      border-color: transparent;\n",
              "      border-left-color: var(--fill-color);\n",
              "      border-top-color: var(--fill-color);\n",
              "    }\n",
              "    30% {\n",
              "      border-color: transparent;\n",
              "      border-left-color: var(--fill-color);\n",
              "      border-top-color: var(--fill-color);\n",
              "      border-right-color: var(--fill-color);\n",
              "    }\n",
              "    40% {\n",
              "      border-color: transparent;\n",
              "      border-right-color: var(--fill-color);\n",
              "      border-top-color: var(--fill-color);\n",
              "    }\n",
              "    60% {\n",
              "      border-color: transparent;\n",
              "      border-right-color: var(--fill-color);\n",
              "    }\n",
              "    80% {\n",
              "      border-color: transparent;\n",
              "      border-right-color: var(--fill-color);\n",
              "      border-bottom-color: var(--fill-color);\n",
              "    }\n",
              "    90% {\n",
              "      border-color: transparent;\n",
              "      border-bottom-color: var(--fill-color);\n",
              "    }\n",
              "  }\n",
              "</style>\n",
              "\n",
              "  <script>\n",
              "    async function quickchart(key) {\n",
              "      const quickchartButtonEl =\n",
              "        document.querySelector('#' + key + ' button');\n",
              "      quickchartButtonEl.disabled = true;  // To prevent multiple clicks.\n",
              "      quickchartButtonEl.classList.add('colab-df-spinner');\n",
              "      try {\n",
              "        const charts = await google.colab.kernel.invokeFunction(\n",
              "            'suggestCharts', [key], {});\n",
              "      } catch (error) {\n",
              "        console.error('Error during call to suggestCharts:', error);\n",
              "      }\n",
              "      quickchartButtonEl.classList.remove('colab-df-spinner');\n",
              "      quickchartButtonEl.classList.add('colab-df-quickchart-complete');\n",
              "    }\n",
              "    (() => {\n",
              "      let quickchartButtonEl =\n",
              "        document.querySelector('#df-b25e378b-c09a-48d6-acf9-8e95a0893b87 button');\n",
              "      quickchartButtonEl.style.display =\n",
              "        google.colab.kernel.accessAllowed ? 'block' : 'none';\n",
              "    })();\n",
              "  </script>\n",
              "</div>\n",
              "    </div>\n",
              "  </div>\n"
            ],
            "text/plain": [
              "                                                   0\n",
              "0  datasets/Rice_Image_Dataset/Karacadag/Karacada...\n",
              "1  datasets/Rice_Image_Dataset/Karacadag/Karacada...\n",
              "2  datasets/Rice_Image_Dataset/Karacadag/Karacada...\n",
              "3  datasets/Rice_Image_Dataset/Karacadag/Karacada...\n",
              "4  datasets/Rice_Image_Dataset/Karacadag/Karacada..."
            ]
          },
          "execution_count": 12,
          "metadata": {},
          "output_type": "execute_result"
        }
      ],
      "source": [
        "df_paths.head()"
      ]
    },
    {
      "cell_type": "code",
      "execution_count": null,
      "metadata": {
        "id": "Xxs-b70EYdBW"
      },
      "outputs": [],
      "source": [
        "df_paths = df_paths.rename(columns={0:\"ubica\"})\n",
        "df_paths[\"file\"] = df_paths[\"ubica\"].str.split('/').str.get(-1)"
      ]
    },
    {
      "cell_type": "code",
      "execution_count": null,
      "metadata": {
        "id": "m6UIWn4LYdBW"
      },
      "outputs": [],
      "source": [
        "df_paths[\"label\"] = para_labels\n",
        "df_combi = df_paths"
      ]
    },
    {
      "cell_type": "code",
      "execution_count": null,
      "metadata": {
        "colab": {
          "base_uri": "https://localhost:8080/",
          "height": 424
        },
        "id": "FnmvXHPZYdBW",
        "outputId": "c36ca04f-bd6a-41df-c4f3-122000b6abd6"
      },
      "outputs": [
        {
          "data": {
            "text/html": [
              "\n",
              "  <div id=\"df-88205491-30a5-4732-b2d2-39a5a8fa4b69\" class=\"colab-df-container\">\n",
              "    <div>\n",
              "<style scoped>\n",
              "    .dataframe tbody tr th:only-of-type {\n",
              "        vertical-align: middle;\n",
              "    }\n",
              "\n",
              "    .dataframe tbody tr th {\n",
              "        vertical-align: top;\n",
              "    }\n",
              "\n",
              "    .dataframe thead th {\n",
              "        text-align: right;\n",
              "    }\n",
              "</style>\n",
              "<table border=\"1\" class=\"dataframe\">\n",
              "  <thead>\n",
              "    <tr style=\"text-align: right;\">\n",
              "      <th></th>\n",
              "      <th>ubica</th>\n",
              "      <th>file</th>\n",
              "      <th>label</th>\n",
              "      <th>label_num</th>\n",
              "    </tr>\n",
              "  </thead>\n",
              "  <tbody>\n",
              "    <tr>\n",
              "      <th>0</th>\n",
              "      <td>datasets/Rice_Image_Dataset/Karacadag/Karacada...</td>\n",
              "      <td>Karacadag (1).jpg</td>\n",
              "      <td>Arborio</td>\n",
              "      <td>0</td>\n",
              "    </tr>\n",
              "    <tr>\n",
              "      <th>1</th>\n",
              "      <td>datasets/Rice_Image_Dataset/Karacadag/Karacada...</td>\n",
              "      <td>Karacadag (10).jpg</td>\n",
              "      <td>Arborio</td>\n",
              "      <td>0</td>\n",
              "    </tr>\n",
              "    <tr>\n",
              "      <th>2</th>\n",
              "      <td>datasets/Rice_Image_Dataset/Karacadag/Karacada...</td>\n",
              "      <td>Karacadag (100).jpg</td>\n",
              "      <td>Arborio</td>\n",
              "      <td>0</td>\n",
              "    </tr>\n",
              "    <tr>\n",
              "      <th>3</th>\n",
              "      <td>datasets/Rice_Image_Dataset/Karacadag/Karacada...</td>\n",
              "      <td>Karacadag (1000).jpg</td>\n",
              "      <td>Arborio</td>\n",
              "      <td>0</td>\n",
              "    </tr>\n",
              "    <tr>\n",
              "      <th>4</th>\n",
              "      <td>datasets/Rice_Image_Dataset/Karacadag/Karacada...</td>\n",
              "      <td>Karacadag (10000).jpg</td>\n",
              "      <td>Arborio</td>\n",
              "      <td>0</td>\n",
              "    </tr>\n",
              "    <tr>\n",
              "      <th>...</th>\n",
              "      <td>...</td>\n",
              "      <td>...</td>\n",
              "      <td>...</td>\n",
              "      <td>...</td>\n",
              "    </tr>\n",
              "    <tr>\n",
              "      <th>4995</th>\n",
              "      <td>datasets/Rice_Image_Dataset/Ipsala/Ipsala (108...</td>\n",
              "      <td>Ipsala (10894).jpg</td>\n",
              "      <td>Karacadag</td>\n",
              "      <td>4</td>\n",
              "    </tr>\n",
              "    <tr>\n",
              "      <th>4996</th>\n",
              "      <td>datasets/Rice_Image_Dataset/Ipsala/Ipsala (108...</td>\n",
              "      <td>Ipsala (10895).jpg</td>\n",
              "      <td>Karacadag</td>\n",
              "      <td>4</td>\n",
              "    </tr>\n",
              "    <tr>\n",
              "      <th>4997</th>\n",
              "      <td>datasets/Rice_Image_Dataset/Ipsala/Ipsala (108...</td>\n",
              "      <td>Ipsala (10896).jpg</td>\n",
              "      <td>Karacadag</td>\n",
              "      <td>4</td>\n",
              "    </tr>\n",
              "    <tr>\n",
              "      <th>4998</th>\n",
              "      <td>datasets/Rice_Image_Dataset/Ipsala/Ipsala (108...</td>\n",
              "      <td>Ipsala (10897).jpg</td>\n",
              "      <td>Karacadag</td>\n",
              "      <td>4</td>\n",
              "    </tr>\n",
              "    <tr>\n",
              "      <th>4999</th>\n",
              "      <td>datasets/Rice_Image_Dataset/Ipsala/Ipsala (108...</td>\n",
              "      <td>Ipsala (10898).jpg</td>\n",
              "      <td>Karacadag</td>\n",
              "      <td>4</td>\n",
              "    </tr>\n",
              "  </tbody>\n",
              "</table>\n",
              "<p>5000 rows × 4 columns</p>\n",
              "</div>\n",
              "    <div class=\"colab-df-buttons\">\n",
              "\n",
              "  <div class=\"colab-df-container\">\n",
              "    <button class=\"colab-df-convert\" onclick=\"convertToInteractive('df-88205491-30a5-4732-b2d2-39a5a8fa4b69')\"\n",
              "            title=\"Convert this dataframe to an interactive table.\"\n",
              "            style=\"display:none;\">\n",
              "\n",
              "  <svg xmlns=\"http://www.w3.org/2000/svg\" height=\"24px\" viewBox=\"0 -960 960 960\">\n",
              "    <path d=\"M120-120v-720h720v720H120Zm60-500h600v-160H180v160Zm220 220h160v-160H400v160Zm0 220h160v-160H400v160ZM180-400h160v-160H180v160Zm440 0h160v-160H620v160ZM180-180h160v-160H180v160Zm440 0h160v-160H620v160Z\"/>\n",
              "  </svg>\n",
              "    </button>\n",
              "\n",
              "  <style>\n",
              "    .colab-df-container {\n",
              "      display:flex;\n",
              "      gap: 12px;\n",
              "    }\n",
              "\n",
              "    .colab-df-convert {\n",
              "      background-color: #E8F0FE;\n",
              "      border: none;\n",
              "      border-radius: 50%;\n",
              "      cursor: pointer;\n",
              "      display: none;\n",
              "      fill: #1967D2;\n",
              "      height: 32px;\n",
              "      padding: 0 0 0 0;\n",
              "      width: 32px;\n",
              "    }\n",
              "\n",
              "    .colab-df-convert:hover {\n",
              "      background-color: #E2EBFA;\n",
              "      box-shadow: 0px 1px 2px rgba(60, 64, 67, 0.3), 0px 1px 3px 1px rgba(60, 64, 67, 0.15);\n",
              "      fill: #174EA6;\n",
              "    }\n",
              "\n",
              "    .colab-df-buttons div {\n",
              "      margin-bottom: 4px;\n",
              "    }\n",
              "\n",
              "    [theme=dark] .colab-df-convert {\n",
              "      background-color: #3B4455;\n",
              "      fill: #D2E3FC;\n",
              "    }\n",
              "\n",
              "    [theme=dark] .colab-df-convert:hover {\n",
              "      background-color: #434B5C;\n",
              "      box-shadow: 0px 1px 3px 1px rgba(0, 0, 0, 0.15);\n",
              "      filter: drop-shadow(0px 1px 2px rgba(0, 0, 0, 0.3));\n",
              "      fill: #FFFFFF;\n",
              "    }\n",
              "  </style>\n",
              "\n",
              "    <script>\n",
              "      const buttonEl =\n",
              "        document.querySelector('#df-88205491-30a5-4732-b2d2-39a5a8fa4b69 button.colab-df-convert');\n",
              "      buttonEl.style.display =\n",
              "        google.colab.kernel.accessAllowed ? 'block' : 'none';\n",
              "\n",
              "      async function convertToInteractive(key) {\n",
              "        const element = document.querySelector('#df-88205491-30a5-4732-b2d2-39a5a8fa4b69');\n",
              "        const dataTable =\n",
              "          await google.colab.kernel.invokeFunction('convertToInteractive',\n",
              "                                                    [key], {});\n",
              "        if (!dataTable) return;\n",
              "\n",
              "        const docLinkHtml = 'Like what you see? Visit the ' +\n",
              "          '<a target=\"_blank\" href=https://colab.research.google.com/notebooks/data_table.ipynb>data table notebook</a>'\n",
              "          + ' to learn more about interactive tables.';\n",
              "        element.innerHTML = '';\n",
              "        dataTable['output_type'] = 'display_data';\n",
              "        await google.colab.output.renderOutput(dataTable, element);\n",
              "        const docLink = document.createElement('div');\n",
              "        docLink.innerHTML = docLinkHtml;\n",
              "        element.appendChild(docLink);\n",
              "      }\n",
              "    </script>\n",
              "  </div>\n",
              "\n",
              "\n",
              "<div id=\"df-b91756d1-4274-4c01-b2f4-9688aa0c8d61\">\n",
              "  <button class=\"colab-df-quickchart\" onclick=\"quickchart('df-b91756d1-4274-4c01-b2f4-9688aa0c8d61')\"\n",
              "            title=\"Suggest charts.\"\n",
              "            style=\"display:none;\">\n",
              "\n",
              "<svg xmlns=\"http://www.w3.org/2000/svg\" height=\"24px\"viewBox=\"0 0 24 24\"\n",
              "     width=\"24px\">\n",
              "    <g>\n",
              "        <path d=\"M19 3H5c-1.1 0-2 .9-2 2v14c0 1.1.9 2 2 2h14c1.1 0 2-.9 2-2V5c0-1.1-.9-2-2-2zM9 17H7v-7h2v7zm4 0h-2V7h2v10zm4 0h-2v-4h2v4z\"/>\n",
              "    </g>\n",
              "</svg>\n",
              "  </button>\n",
              "\n",
              "<style>\n",
              "  .colab-df-quickchart {\n",
              "      --bg-color: #E8F0FE;\n",
              "      --fill-color: #1967D2;\n",
              "      --hover-bg-color: #E2EBFA;\n",
              "      --hover-fill-color: #174EA6;\n",
              "      --disabled-fill-color: #AAA;\n",
              "      --disabled-bg-color: #DDD;\n",
              "  }\n",
              "\n",
              "  [theme=dark] .colab-df-quickchart {\n",
              "      --bg-color: #3B4455;\n",
              "      --fill-color: #D2E3FC;\n",
              "      --hover-bg-color: #434B5C;\n",
              "      --hover-fill-color: #FFFFFF;\n",
              "      --disabled-bg-color: #3B4455;\n",
              "      --disabled-fill-color: #666;\n",
              "  }\n",
              "\n",
              "  .colab-df-quickchart {\n",
              "    background-color: var(--bg-color);\n",
              "    border: none;\n",
              "    border-radius: 50%;\n",
              "    cursor: pointer;\n",
              "    display: none;\n",
              "    fill: var(--fill-color);\n",
              "    height: 32px;\n",
              "    padding: 0;\n",
              "    width: 32px;\n",
              "  }\n",
              "\n",
              "  .colab-df-quickchart:hover {\n",
              "    background-color: var(--hover-bg-color);\n",
              "    box-shadow: 0 1px 2px rgba(60, 64, 67, 0.3), 0 1px 3px 1px rgba(60, 64, 67, 0.15);\n",
              "    fill: var(--button-hover-fill-color);\n",
              "  }\n",
              "\n",
              "  .colab-df-quickchart-complete:disabled,\n",
              "  .colab-df-quickchart-complete:disabled:hover {\n",
              "    background-color: var(--disabled-bg-color);\n",
              "    fill: var(--disabled-fill-color);\n",
              "    box-shadow: none;\n",
              "  }\n",
              "\n",
              "  .colab-df-spinner {\n",
              "    border: 2px solid var(--fill-color);\n",
              "    border-color: transparent;\n",
              "    border-bottom-color: var(--fill-color);\n",
              "    animation:\n",
              "      spin 1s steps(1) infinite;\n",
              "  }\n",
              "\n",
              "  @keyframes spin {\n",
              "    0% {\n",
              "      border-color: transparent;\n",
              "      border-bottom-color: var(--fill-color);\n",
              "      border-left-color: var(--fill-color);\n",
              "    }\n",
              "    20% {\n",
              "      border-color: transparent;\n",
              "      border-left-color: var(--fill-color);\n",
              "      border-top-color: var(--fill-color);\n",
              "    }\n",
              "    30% {\n",
              "      border-color: transparent;\n",
              "      border-left-color: var(--fill-color);\n",
              "      border-top-color: var(--fill-color);\n",
              "      border-right-color: var(--fill-color);\n",
              "    }\n",
              "    40% {\n",
              "      border-color: transparent;\n",
              "      border-right-color: var(--fill-color);\n",
              "      border-top-color: var(--fill-color);\n",
              "    }\n",
              "    60% {\n",
              "      border-color: transparent;\n",
              "      border-right-color: var(--fill-color);\n",
              "    }\n",
              "    80% {\n",
              "      border-color: transparent;\n",
              "      border-right-color: var(--fill-color);\n",
              "      border-bottom-color: var(--fill-color);\n",
              "    }\n",
              "    90% {\n",
              "      border-color: transparent;\n",
              "      border-bottom-color: var(--fill-color);\n",
              "    }\n",
              "  }\n",
              "</style>\n",
              "\n",
              "  <script>\n",
              "    async function quickchart(key) {\n",
              "      const quickchartButtonEl =\n",
              "        document.querySelector('#' + key + ' button');\n",
              "      quickchartButtonEl.disabled = true;  // To prevent multiple clicks.\n",
              "      quickchartButtonEl.classList.add('colab-df-spinner');\n",
              "      try {\n",
              "        const charts = await google.colab.kernel.invokeFunction(\n",
              "            'suggestCharts', [key], {});\n",
              "      } catch (error) {\n",
              "        console.error('Error during call to suggestCharts:', error);\n",
              "      }\n",
              "      quickchartButtonEl.classList.remove('colab-df-spinner');\n",
              "      quickchartButtonEl.classList.add('colab-df-quickchart-complete');\n",
              "    }\n",
              "    (() => {\n",
              "      let quickchartButtonEl =\n",
              "        document.querySelector('#df-b91756d1-4274-4c01-b2f4-9688aa0c8d61 button');\n",
              "      quickchartButtonEl.style.display =\n",
              "        google.colab.kernel.accessAllowed ? 'block' : 'none';\n",
              "    })();\n",
              "  </script>\n",
              "</div>\n",
              "    </div>\n",
              "  </div>\n"
            ],
            "text/plain": [
              "                                                  ubica  \\\n",
              "0     datasets/Rice_Image_Dataset/Karacadag/Karacada...   \n",
              "1     datasets/Rice_Image_Dataset/Karacadag/Karacada...   \n",
              "2     datasets/Rice_Image_Dataset/Karacadag/Karacada...   \n",
              "3     datasets/Rice_Image_Dataset/Karacadag/Karacada...   \n",
              "4     datasets/Rice_Image_Dataset/Karacadag/Karacada...   \n",
              "...                                                 ...   \n",
              "4995  datasets/Rice_Image_Dataset/Ipsala/Ipsala (108...   \n",
              "4996  datasets/Rice_Image_Dataset/Ipsala/Ipsala (108...   \n",
              "4997  datasets/Rice_Image_Dataset/Ipsala/Ipsala (108...   \n",
              "4998  datasets/Rice_Image_Dataset/Ipsala/Ipsala (108...   \n",
              "4999  datasets/Rice_Image_Dataset/Ipsala/Ipsala (108...   \n",
              "\n",
              "                       file      label  label_num  \n",
              "0         Karacadag (1).jpg    Arborio          0  \n",
              "1        Karacadag (10).jpg    Arborio          0  \n",
              "2       Karacadag (100).jpg    Arborio          0  \n",
              "3      Karacadag (1000).jpg    Arborio          0  \n",
              "4     Karacadag (10000).jpg    Arborio          0  \n",
              "...                     ...        ...        ...  \n",
              "4995     Ipsala (10894).jpg  Karacadag          4  \n",
              "4996     Ipsala (10895).jpg  Karacadag          4  \n",
              "4997     Ipsala (10896).jpg  Karacadag          4  \n",
              "4998     Ipsala (10897).jpg  Karacadag          4  \n",
              "4999     Ipsala (10898).jpg  Karacadag          4  \n",
              "\n",
              "[5000 rows x 4 columns]"
            ]
          },
          "execution_count": 15,
          "metadata": {},
          "output_type": "execute_result"
        }
      ],
      "source": [
        "tipos = [\"0\",\"1\",\"2\",\"3\",\"4\"]\n",
        "\n",
        "para_labels_num = []\n",
        "\n",
        "for count,element in enumerate(tipos):\n",
        "    temp = [element]\n",
        "    para_labels_num += temp*N_IMAGES\n",
        "\n",
        "df_combi[\"label_num\"] = para_labels_num\n",
        "\n",
        "df_combi[\"label_num\"] = df_combi[\"label_num\"].astype('int64')\n",
        "\n",
        "df_combi"
      ]
    },
    {
      "cell_type": "code",
      "execution_count": null,
      "metadata": {
        "colab": {
          "base_uri": "https://localhost:8080/",
          "height": 192
        },
        "id": "N8KloKWfYdBW",
        "outputId": "2391332e-2151-4cbe-b308-b6fd30e06448"
      },
      "outputs": [
        {
          "data": {
            "image/png": "[encoded data removed]",
            "text/plain": [
              "<Figure size 1000x1000 with 5 Axes>"
            ]
          },
          "metadata": {},
          "output_type": "display_data"
        }
      ],
      "source": [
        "fig, axs = plt.subplots(1,5, figsize=(10, 10))\n",
        "for ct,i in enumerate(df_combi[\"label\"].unique()):\n",
        "  testeo = df_combi[df_combi.label == i]\n",
        "  ubica = testeo.sample().ubica.iloc[0]\n",
        "  img = Image.open(ubica)\n",
        "  axs[ct].imshow(img)\n",
        "  axs[ct].set_title(f'Tipo {i}')\n",
        "  axs[ct].axis('off')\n",
        "#fig.tight_layout(h_pad=-20, w_pad=1)"
      ]
    },
    {
      "cell_type": "code",
      "execution_count": null,
      "metadata": {
        "id": "dBivlDNnYdBW"
      },
      "outputs": [],
      "source": [
        "from keras.applications.vgg16 import preprocess_input\n",
        "from tensorflow.keras.utils  import load_img\n",
        "from tensorflow.keras.utils import img_to_array\n",
        "\n",
        "# models\n",
        "from keras.applications.vgg16 import VGG16\n",
        "from keras.models import Model\n",
        "\n",
        "# clustering and dimension reduction\n",
        "from sklearn.cluster import KMeans\n",
        "from sklearn.decomposition import PCA\n",
        "\n",
        "# for everything else\n",
        "import os\n",
        "import numpy as np\n",
        "import matplotlib.pyplot as plt\n",
        "from random import randint\n",
        "import pandas as pd"
      ]
    },
    {
      "cell_type": "code",
      "execution_count": null,
      "metadata": {
        "colab": {
          "base_uri": "https://localhost:8080/"
        },
        "id": "lYnVdOlTYdBW",
        "outputId": "1acf2142-4bc6-42d2-9ceb-72ec5602bddc"
      },
      "outputs": [
        {
          "name": "stdout",
          "output_type": "stream",
          "text": [
            "Downloading data from https://storage.googleapis.com/tensorflow/keras-applications/vgg16/vgg16_weights_tf_dim_ordering_tf_kernels.h5\n",
            "553467096/553467096 [==============================] - 7s 0us/step\n"
          ]
        }
      ],
      "source": [
        "model = VGG16()\n",
        "model = Model(inputs = model.inputs, outputs = model.layers[-2].output)"
      ]
    },
    {
      "cell_type": "code",
      "execution_count": null,
      "metadata": {
        "id": "s5S5oh36YdBW"
      },
      "outputs": [],
      "source": [
        "def preprocess(lista, model):\n",
        "    datays = {}\n",
        "    for i in lista:\n",
        "      featuress = extract_features(i, model)\n",
        "      datays[i] = featuress\n",
        "    # lista de filenames\n",
        "    filenmss = np.array(list(datays.keys()))\n",
        "\n",
        "    # lista de features\n",
        "    featsss = np.array(list(datays.values()))\n",
        "\n",
        "    # reshape 4096 features por el número de imagens\n",
        "    print(featsss.shape)\n",
        "    featsss = featsss.reshape(-1,4096)\n",
        "    return filenmss, featsss\n",
        "\n",
        "def extract_features(file, model):\n",
        "    # levanta imagen como array 224x224\n",
        "    img = load_img(file, target_size=(224,224))\n",
        "    # convierte img a numpy array (originalmente es 'PIL.Image.Image')\n",
        "    img = np.array(img)\n",
        "    # reshape para tener formato necesario para el modelo (num_of_samples, dim 1, dim 2, channels)\n",
        "    reshaped_img = img.reshape(1,224,224,3)\n",
        "    # prepara imagen para modelo (función de keras)\n",
        "    imgx = preprocess_input(reshaped_img)\n",
        "    # extrae features\n",
        "    features = model.predict(imgx, use_multiprocessing=True)\n",
        "    return features\n",
        "\n",
        "def view_cluster(gps,cluster):\n",
        "    plt.figure(figsize = (25,25));\n",
        "    # gets the list of filenames for a cluster\n",
        "    files = gps\n",
        "    # only allow up to 30 images to be shown at a time\n",
        "    if len(files) > 10:\n",
        "        print(f\"Clipping cluster size from {len(files)} to 10\")\n",
        "        files = files[:9]\n",
        "    # plot each image in the cluster\n",
        "    for index, file in enumerate(files):\n",
        "        plt.subplot(1,10,index+1);\n",
        "        img = load_img(file)\n",
        "        img = np.array(img)\n",
        "        plt.imshow(img)\n",
        "        plt.title('Cluster n:' + str(cluster))\n",
        "        plt.axis('off')"
      ]
    },
    {
      "cell_type": "code",
      "execution_count": null,
      "metadata": {
        "id": "ctvVVpqpYdBW"
      },
      "outputs": [],
      "source": [
        "import matplotlib.cm as cm\n",
        "\n",
        "def grafica_silhouette(KM,d):\n",
        "  silhouette_avg = silhouette_score(d,KM.labels_,metric='euclidean')\n",
        "  sample_silhouette_values = silhouette_samples(d,KM.labels_,metric='euclidean')\n",
        "\n",
        "  plt.rcParams['figure.figsize'] = (8,6)\n",
        "  plt.xlim([-0.1, 1])\n",
        "  plt.ylim([0, len(KM.labels_) + (k + 1) * 10])\n",
        "\n",
        "  y_lower = 10\n",
        "  for i in range(k):\n",
        "      ith_cluster_silhouette_values = sample_silhouette_values[KM.labels_ == i]\n",
        "\n",
        "      ith_cluster_silhouette_values.sort()\n",
        "\n",
        "      size_cluster_i = ith_cluster_silhouette_values.shape[0]\n",
        "      y_upper = y_lower + size_cluster_i\n",
        "\n",
        "      color = cm.nipy_spectral(float(i) / k)\n",
        "      plt.fill_betweenx(np.arange(y_lower, y_upper),\n",
        "                        0, ith_cluster_silhouette_values,\n",
        "                        facecolor=color, edgecolor=color, alpha=0.7)\n",
        "\n",
        "      plt.text(-0.05, y_lower + 0.5 * size_cluster_i, str(i))\n",
        "\n",
        "      y_lower = y_upper + 10\n",
        "\n",
        "  plt.title((\"Silhouette analysis for KMeans clustering on sample data \"\n",
        "                \"with k = %d\" % k),\n",
        "                fontsize=14, fontweight='bold')\n",
        "  plt.xlabel(\"The silhouette coefficient values\")\n",
        "  plt.ylabel(\"Cluster label\")\n",
        "\n",
        "  # The vertical line for average silhouette score of all the values\n",
        "  plt.axvline(x=silhouette_avg, color=\"red\", linestyle=\"--\")\n",
        "\n",
        "  plt.yticks([])  # Clear the yaxis labels / ticks\n",
        "  plt.xticks([-0.1, 0, 0.2, 0.4, 0.6, 0.8, 1])\n",
        "  plt.show()"
      ]
    },
    {
      "cell_type": "code",
      "execution_count": null,
      "metadata": {
        "colab": {
          "background_save": true
        },
        "id": "l7vRQvV6YdBW"
      },
      "outputs": [],
      "source": [
        "names, feat = preprocess(completo, model)"
      ]
    },
    {
      "cell_type": "code",
      "execution_count": null,
      "metadata": {
        "colab": {
          "background_save": true
        },
        "id": "o5MCpS0qYdBW"
      },
      "outputs": [],
      "source": [
        "#Guardo en pickle el modelo\n",
        "pickle.dump(names, open('names-5k-img.pk1','wb'))\n",
        "pickle.dump(feat, open('feat-5k-img.pk1','wb'))\n",
        "\n",
        "#Cargo el modelo\n",
        "#names = pickle.load(open('names-5k-img.pk1','rb'))\n",
        "#feat = pickle.load(open('feat-5k-img.pk1','rb'))\n"
      ]
    },
    {
      "cell_type": "code",
      "execution_count": null,
      "metadata": {
        "colab": {
          "background_save": true
        },
        "id": "jJSK8Nd9YdBW",
        "outputId": "084a94bf-dc2d-40a7-b7ce-6df858fc9cf7"
      },
      "outputs": [
        {
          "data": {
            "text/plain": [
              "['Karacadag', 'Arborio', 'Basmati', 'Jasmine', 'Ipsala']"
            ]
          },
          "execution_count": 23,
          "metadata": {},
          "output_type": "execute_result"
        }
      ],
      "source": [
        "# get the unique labels (from the flower_labels.csv)\n",
        "\n",
        "label = df_combi['label'].tolist()\n",
        "unique_labels = list(set(label))\n",
        "unique_labels"
      ]
    },
    {
      "cell_type": "code",
      "execution_count": null,
      "metadata": {
        "colab": {
          "background_save": true
        },
        "id": "HCv-vLbDYdBX"
      },
      "outputs": [],
      "source": [
        "pca = PCA(n_components=100, random_state=SEED)\n",
        "pca.fit(feat)\n",
        "x = pca.transform(feat)"
      ]
    },
    {
      "cell_type": "code",
      "execution_count": null,
      "metadata": {
        "colab": {
          "background_save": true
        },
        "id": "R8Ao6qO_YdBX",
        "outputId": "fd2ec511-c97a-43b1-f797-eccdf50f0f24"
      },
      "outputs": [
        {
          "ename": "NameError",
          "evalue": "ignored",
          "output_type": "error",
          "traceback": [
            "\u001b[0;31m---------------------------------------------------------------------------\u001b[0m",
            "\u001b[0;31mNameError\u001b[0m                                 Traceback (most recent call last)",
            "\u001b[0;32m<ipython-input-25-f5441912acb1>\u001b[0m in \u001b[0;36m<cell line: 5>\u001b[0;34m()\u001b[0m\n\u001b[1;32m      3\u001b[0m \u001b[0mtsne\u001b[0m \u001b[0;34m=\u001b[0m \u001b[0mTSNE\u001b[0m\u001b[0;34m(\u001b[0m\u001b[0mn_components\u001b[0m\u001b[0;34m=\u001b[0m\u001b[0;36m2\u001b[0m\u001b[0;34m,\u001b[0m\u001b[0mperplexity\u001b[0m\u001b[0;34m=\u001b[0m\u001b[0;36m500\u001b[0m\u001b[0;34m,\u001b[0m \u001b[0mn_iter\u001b[0m\u001b[0;34m=\u001b[0m\u001b[0;36m1000\u001b[0m\u001b[0;34m)\u001b[0m\u001b[0;34m\u001b[0m\u001b[0;34m\u001b[0m\u001b[0m\n\u001b[1;32m      4\u001b[0m \u001b[0mXred\u001b[0m \u001b[0;34m=\u001b[0m \u001b[0mtsne\u001b[0m\u001b[0;34m.\u001b[0m\u001b[0mfit_transform\u001b[0m\u001b[0;34m(\u001b[0m\u001b[0mfeat\u001b[0m\u001b[0;34m)\u001b[0m\u001b[0;34m\u001b[0m\u001b[0;34m\u001b[0m\u001b[0m\n\u001b[0;32m----> 5\u001b[0;31m \u001b[0mplt\u001b[0m\u001b[0;34m.\u001b[0m\u001b[0mscatter\u001b[0m\u001b[0;34m(\u001b[0m\u001b[0mXred\u001b[0m\u001b[0;34m[\u001b[0m\u001b[0;34m:\u001b[0m\u001b[0;34m,\u001b[0m\u001b[0;36m0\u001b[0m\u001b[0;34m]\u001b[0m\u001b[0;34m,\u001b[0m\u001b[0mXred\u001b[0m\u001b[0;34m[\u001b[0m\u001b[0;34m:\u001b[0m\u001b[0;34m,\u001b[0m\u001b[0;36m1\u001b[0m\u001b[0;34m]\u001b[0m\u001b[0;34m,\u001b[0m\u001b[0mc\u001b[0m\u001b[0;34m=\u001b[0m\u001b[0my\u001b[0m\u001b[0;34m,\u001b[0m\u001b[0mcmap\u001b[0m\u001b[0;34m=\u001b[0m\u001b[0mplt\u001b[0m\u001b[0;34m.\u001b[0m\u001b[0mcm\u001b[0m\u001b[0;34m.\u001b[0m\u001b[0mSpectral\u001b[0m\u001b[0;34m,\u001b[0m\u001b[0malpha\u001b[0m\u001b[0;34m=\u001b[0m\u001b[0;36m0.7\u001b[0m\u001b[0;34m)\u001b[0m\u001b[0;34m\u001b[0m\u001b[0;34m\u001b[0m\u001b[0m\n\u001b[0m\u001b[1;32m      6\u001b[0m \u001b[0mplt\u001b[0m\u001b[0;34m.\u001b[0m\u001b[0mcolorbar\u001b[0m\u001b[0;34m(\u001b[0m\u001b[0;34m)\u001b[0m\u001b[0;34m;\u001b[0m\u001b[0;34m\u001b[0m\u001b[0;34m\u001b[0m\u001b[0m\n",
            "\u001b[0;31mNameError\u001b[0m: name 'y' is not defined"
          ]
        }
      ],
      "source": [
        "#No funciona\n",
        "from sklearn.manifold import MDS, Isomap, SpectralEmbedding, TSNE\n",
        "tsne = TSNE(n_components=2,perplexity=500, n_iter=1000)\n",
        "Xred = tsne.fit_transform(feat)\n",
        "plt.scatter(Xred[:,0],Xred[:,1],c=y,cmap=plt.cm.Spectral,alpha=0.7)\n",
        "plt.colorbar();"
      ]
    },
    {
      "cell_type": "code",
      "execution_count": null,
      "metadata": {
        "colab": {
          "background_save": true
        },
        "id": "lrVb08L-YdBX"
      },
      "outputs": [],
      "source": [
        "print(f\"Components before PCA: {feat.shape[1]}\")\n",
        "print(f\"Components after PCA: {pca.n_components}\")"
      ]
    },
    {
      "cell_type": "code",
      "execution_count": null,
      "metadata": {
        "colab": {
          "background_save": true
        },
        "id": "rmQwXBLsYdBX"
      },
      "outputs": [],
      "source": [
        "#kmeans = KMeans(n_clusters=len(unique_labels))\n",
        "kmeans = KMeans(n_clusters=5)\n",
        "kmeans.fit(x)"
      ]
    },
    {
      "cell_type": "code",
      "execution_count": null,
      "metadata": {
        "colab": {
          "background_save": true
        },
        "id": "aLA_zUF5YdBX"
      },
      "outputs": [],
      "source": [
        "groups = {}\n",
        "for file, cluster in zip(names,kmeans.labels_):\n",
        "    if cluster not in groups.keys():\n",
        "        groups[cluster] = []\n",
        "        groups[cluster].append(file)\n",
        "    else:\n",
        "        groups[cluster].append(file)"
      ]
    },
    {
      "cell_type": "code",
      "execution_count": null,
      "metadata": {
        "colab": {
          "background_save": true
        },
        "id": "QY77Cs2KYdBX"
      },
      "outputs": [],
      "source": [
        "for n in range(len(groups)):\n",
        "  view_cluster(groups[n],n)"
      ]
    },
    {
      "cell_type": "code",
      "execution_count": null,
      "metadata": {
        "colab": {
          "background_save": true
        },
        "id": "RaKxxvvHYdBX"
      },
      "outputs": [],
      "source": [
        "#Kmeans básico:\n",
        "fig, axs = plt.subplots(3,2,figsize=(15,15))\n",
        "axs[0,0].plot(100*pca.explained_variance_ / sum(pca.explained_variance_),'.-')\n",
        "axs[0,0].set_xlim([0,15])\n",
        "axs[0,0].set_xlabel('PCs')\n",
        "axs[0,0].set_ylabel('Var. explicada (%)')\n",
        "axs[0,0].set_title(\"Variabilidad explicada en (%)\")\n",
        "axs[0,1].axis('off')\n",
        "\n",
        "axs[1,0].scatter(x[:,0],x[:,1],s=5,c=kmeans.labels_, alpha=0.5)\n",
        "axs[1,0].set_xlabel('PC1')\n",
        "axs[1,0].set_ylabel('PC2')\n",
        "axs[1,0].set_title(\"Labels obtenidas en las PC1 y PC2\")\n",
        "axs[1,1].scatter(x[:,2],x[:,3],s=5,c=kmeans.labels_, alpha=0.5)\n",
        "axs[1,1].set_xlabel('PC3')\n",
        "axs[1,1].set_ylabel('PC4')\n",
        "axs[1,1].set_title(\"Labels obtenidas en las PC3 y PC4\")\n",
        "axs[2,0].scatter(x[:,0],x[:,1],s=5,c=df_combi[\"label_num\"], alpha=0.5)\n",
        "axs[2,0].set_xlabel('PC1')\n",
        "axs[2,0].set_ylabel('PC2')\n",
        "axs[2,0].set_title(\"Labels reales en las PC1 y PC2\")\n",
        "axs[2,1].scatter(x[:,2],x[:,3],s=5,c=df_combi[\"label_num\"], alpha=0.5)\n",
        "axs[2,1].set_xlabel('PC3')\n",
        "axs[2,1].set_ylabel('PC4')\n",
        "axs[2,1].set_title(\"Labels reales en las PC3 y PC4\")\n",
        "\n",
        "fig.suptitle(\"Kmeans básico\", fontsize=36)"
      ]
    },
    {
      "cell_type": "code",
      "execution_count": null,
      "metadata": {
        "colab": {
          "background_save": true
        },
        "id": "8LoOEOt6YdBX"
      },
      "outputs": [],
      "source": [
        "test = df_combi[[\"label_num\",\"label\"]]"
      ]
    },
    {
      "cell_type": "code",
      "execution_count": null,
      "metadata": {
        "colab": {
          "background_save": true
        },
        "id": "ASWFmz2FYdBX"
      },
      "outputs": [],
      "source": [
        "test[\"x\"] = x[:,0]\n",
        "test[\"y\"] = x[:,1]"
      ]
    },
    {
      "cell_type": "code",
      "execution_count": null,
      "metadata": {
        "colab": {
          "background_save": true
        },
        "id": "dpqsBZZ1YdBX"
      },
      "outputs": [],
      "source": [
        "test_1_2 = test[(test[\"label_num\"] == 1) | (test[\"label_num\"] == 2) | (test[\"label_num\"] == 3) | (test[\"label_num\"] == 4) ]\n",
        "test_1_2"
      ]
    },
    {
      "cell_type": "code",
      "execution_count": null,
      "metadata": {
        "colab": {
          "background_save": true
        },
        "id": "abo4DUxtYdBX"
      },
      "outputs": [],
      "source": [
        "test_modelo = KMeans(n=4)"
      ]
    },
    {
      "cell_type": "code",
      "execution_count": null,
      "metadata": {
        "colab": {
          "background_save": true
        },
        "id": "D35aEUgJYdBX"
      },
      "outputs": [],
      "source": [
        "fig, axs = plt.subplots(3,2,figsize=(15,15))\n",
        "axs[0,0].scatter(test_1_2[\"x\"],test_1_2[\"y\"],s=5,c=test_1_2[\"label_num\"], alpha=0.5)\n",
        "axs[0,0].set_xlabel('PC1')\n",
        "axs[0,0].set_ylabel('PC2')\n",
        "\n",
        "axs[0,1].scatter(test_1_2[\"x\"],test_1_2[\"y\"],s=5,c=df_combi[\"label_num\"], alpha=0.5)\n",
        "axs[0,1].set_xlabel('PC1')\n",
        "axs[0,1].set_ylabel('PC2')"
      ]
    },
    {
      "cell_type": "code",
      "execution_count": null,
      "metadata": {
        "colab": {
          "background_save": true
        },
        "id": "ixfKUryEYdBX"
      },
      "outputs": [],
      "source": [
        "#Kmeans básico:\n",
        "fig, axs = plt.subplots(3,2,figsize=(15,15))\n",
        "#axs[0,0].plot(100*pca.explained_variance_ / sum(pca.explained_variance_),'.-')\n",
        "axs[0,0].set_xlim([0,15])\n",
        "axs[0,0].set_xlabel('PCs')\n",
        "axs[0,0].set_ylabel('Var. explicada (%)')\n",
        "axs[0,0].set_title(\"Variabilidad explicada en (%)\")\n",
        "axs[0,1].axis('off')\n",
        "\n",
        "axs[1,0].scatter(Xred[:,0],Xred[:,1],s=5,c=kmeans.labels_, alpha=0.5)\n",
        "axs[1,0].set_xlabel('PC1')\n",
        "axs[1,0].set_ylabel('PC2')\n",
        "axs[1,0].set_title(\"Labels obtenidas en las PC1 y PC2\")\n",
        "axs[1,1].scatter(Xred[:,2],Xred[:,3],s=5,c=kmeans.labels_, alpha=0.5)\n",
        "axs[1,1].set_xlabel('PC3')\n",
        "axs[1,1].set_ylabel('PC4')\n",
        "axs[1,1].set_title(\"Labels obtenidas en las PC3 y PC4\")\n",
        "axs[2,0].scatter(Xred[:,0],Xred[:,1],s=5,c=df_combi[\"label_num\"], alpha=0.5)\n",
        "axs[2,0].set_xlabel('PC1')\n",
        "axs[2,0].set_ylabel('PC2')\n",
        "axs[2,0].set_title(\"Labels reales en las PC1 y PC2\")\n",
        "axs[2,1].scatter(Xred[:,2],Xred[:,3],s=5,c=df_combi[\"label_num\"], alpha=0.5)\n",
        "axs[2,1].set_xlabel('PC3')\n",
        "axs[2,1].set_ylabel('PC4')\n",
        "axs[2,1].set_title(\"Labels reales en las PC3 y PC4\")\n",
        "\n",
        "fig.suptitle(\"Kmeans básico\", fontsize=36)"
      ]
    },
    {
      "cell_type": "code",
      "execution_count": null,
      "metadata": {
        "colab": {
          "background_save": true
        },
        "id": "z_Q6VMDFYdBX"
      },
      "outputs": [],
      "source": [
        "#Puntajes obtenidos\n",
        "\n",
        "from sklearn.metrics import silhouette_samples, silhouette_score\n",
        "\n",
        "\n",
        "range_k = range(2,10)\n",
        "silh = []\n",
        "sse = []\n",
        "for k in range_k:\n",
        "    model_calc = KMeans(n_clusters=k).fit(x)\n",
        "    silh.append(silhouette_score(x,model_calc.labels_))\n",
        "    sse.append(sum_sse(model_calc))\n",
        "\n",
        "plt.plot(range_k,silh,'r.-')\n",
        "plt.ylabel('Silhuette promedio')\n",
        "plt.show()\n",
        "\n",
        "plt.plot(range_k,sse)\n",
        "plt.ylabel('SSE')\n",
        "plt.show()\n"
      ]
    },
    {
      "cell_type": "code",
      "execution_count": null,
      "metadata": {
        "colab": {
          "background_save": true
        },
        "id": "qmsW0HpdYdBX"
      },
      "outputs": [],
      "source": [
        "k = 5\n",
        "grafica_silhouette(kmeans,x)"
      ]
    },
    {
      "cell_type": "code",
      "execution_count": null,
      "metadata": {
        "colab": {
          "background_save": true
        },
        "id": "RjTyTpGyYdBY"
      },
      "outputs": [],
      "source": [
        "from sklearn.metrics.cluster import adjusted_rand_score\n",
        "print(\"Rand score ajustado: \",adjusted_rand_score(df_combi[\"label_num\"],kmeans.labels_))\n",
        "#vanDongen\n",
        "df_combi[\"predicted\"] = kmeans.labels_\n",
        "\n",
        "df_van = df_combi[[\"label_num\",\"predicted\"]]\n",
        "print(\"vanDongen: \",vanDongen(df_van))"
      ]
    },
    {
      "cell_type": "code",
      "execution_count": null,
      "metadata": {
        "colab": {
          "background_save": true
        },
        "id": "DJl3t-GrYdBY"
      },
      "outputs": [],
      "source": [
        "# Segundo modelo Kmedoids\n",
        "from sklearn_extra.cluster import KMedoids\n",
        "KM_meta=KMedoids(n_clusters=5,init='k-medoids++').fit(x)"
      ]
    },
    {
      "cell_type": "code",
      "execution_count": null,
      "metadata": {
        "colab": {
          "background_save": true
        },
        "id": "MgaL-PO_YdBY"
      },
      "outputs": [],
      "source": [
        "#KMedoids:\n",
        "fig, axs = plt.subplots(3,2,figsize=(15,15))\n",
        "axs[0,0].plot(100*pca.explained_variance_ / sum(pca.explained_variance_),'.-')\n",
        "axs[0,0].set_xlim([0,15])\n",
        "axs[0,0].set_xlabel('PCs')\n",
        "axs[0,0].set_ylabel('Var. explicada (%)')\n",
        "axs[0,1].axis('off')\n",
        "\n",
        "axs[1,0].scatter(x[:,0],x[:,1],s=5,c=KM_meta.labels_, alpha=0.5)\n",
        "axs[1,0].set_xlabel('PC1')\n",
        "axs[1,0].set_ylabel('PC2')\n",
        "axs[1,0].set_title(\"Labels obtenidas en las PC1 y PC2\")\n",
        "axs[1,1].scatter(x[:,2],x[:,3],s=5,c=KM_meta.labels_, alpha=0.5)\n",
        "axs[1,1].set_xlabel('PC3')\n",
        "axs[1,1].set_ylabel('PC4')\n",
        "axs[1,1].set_title(\"Labels obtenidas en las PC3 y PC4\")\n",
        "axs[2,0].scatter(x[:,0],x[:,1],s=5,c=df_combi[\"label_num\"], alpha=0.5)\n",
        "axs[2,0].set_xlabel('PC1')\n",
        "axs[2,0].set_ylabel('PC2')\n",
        "axs[2,0].set_title(\"Labels reales en las PC1 y PC2\")\n",
        "axs[2,1].scatter(x[:,2],x[:,3],s=5,c=df_combi[\"label_num\"], alpha=0.5)\n",
        "axs[2,1].set_xlabel('PC3')\n",
        "axs[2,1].set_ylabel('PC4')\n",
        "axs[2,1].set_title(\"Labels reales en las PC3 y PC4\")\n",
        "\n",
        "fig.suptitle(\"KMedoids 5 clusters\", fontsize=36)\n",
        "\n"
      ]
    },
    {
      "cell_type": "code",
      "execution_count": null,
      "metadata": {
        "colab": {
          "background_save": true
        },
        "id": "6N6edARBYdBY"
      },
      "outputs": [],
      "source": [
        "range_k = range(2,12)\n",
        "silh = []\n",
        "sse = []\n",
        "for k in range_k:\n",
        "#    KM_meta = KMedoids(n_clusters=k,metric='precomputed',init='k-medoids++').fit(d_meta)\n",
        "    model_calc = KMedoids(n_clusters=k,init='heuristic').fit(x)\n",
        "    silh.append(silhouette_score(x,model_calc.labels_))\n",
        "    sse.append(sum_sse(model_calc))\n",
        "\n",
        "plt.plot(range_k,silh,'r.-')\n",
        "plt.ylabel('Silhuette promedio')\n",
        "plt.show()\n",
        "\n",
        "plt.plot(range_k,sse)\n",
        "plt.ylabel('SSE')\n",
        "plt.show()\n",
        "\n"
      ]
    },
    {
      "cell_type": "code",
      "execution_count": null,
      "metadata": {
        "colab": {
          "background_save": true
        },
        "id": "YVPtbcIoYdBY"
      },
      "outputs": [],
      "source": [
        "k = 5\n",
        "grafica_silhouette(KM_meta,x)"
      ]
    },
    {
      "cell_type": "code",
      "execution_count": null,
      "metadata": {
        "colab": {
          "background_save": true
        },
        "id": "8rJhyBuiYdBY"
      },
      "outputs": [],
      "source": [
        "print(\"Rand score ajustado: \",adjusted_rand_score(df_combi[\"label_num\"],KM_meta.labels_))\n",
        "#vanDongen\n",
        "df_combi[\"predicted\"] = KM_meta.labels_\n",
        "\n",
        "df_van = df_combi[[\"label_num\",\"predicted\"]]\n",
        "print(\"vanDongen: \",vanDongen(df_van))"
      ]
    },
    {
      "cell_type": "code",
      "execution_count": null,
      "metadata": {
        "colab": {
          "background_save": true
        },
        "id": "fV8PF-CJYdBY"
      },
      "outputs": [],
      "source": [
        "from sklearn.cluster import BisectingKMeans\n",
        "\n",
        "biskmeans = BisectingKMeans(n_clusters=5).fit(x)\n",
        "\n",
        "#AgglomerativeClustering:\n",
        "fig, axs = plt.subplots(3,2,figsize=(15,15))\n",
        "axs[0,0].plot(100*pca.explained_variance_ / sum(pca.explained_variance_),'.-')\n",
        "axs[0,0].set_xlim([0,15])\n",
        "axs[0,0].set_xlabel('PCs')\n",
        "axs[0,0].set_ylabel('Var. explicada (%)')\n",
        "axs[0,1].axis('off')\n",
        "\n",
        "axs[1,0].scatter(x[:,0],x[:,1],s=5,c=biskmeans.labels_, alpha=0.5)\n",
        "axs[1,0].set_xlabel('PC1')\n",
        "axs[1,0].set_ylabel('PC2')\n",
        "axs[1,0].set_title(\"Labels obtenidas en las PC1 y PC2\")\n",
        "axs[1,1].scatter(x[:,2],x[:,3],s=5,c=biskmeans.labels_, alpha=0.5)\n",
        "axs[1,1].set_xlabel('PC3')\n",
        "axs[1,1].set_ylabel('PC4')\n",
        "axs[1,1].set_title(\"Labels obtenidas en las PC3 y PC4\")\n",
        "axs[2,0].scatter(x[:,0],x[:,1],s=5,c=df_combi[\"label_num\"], alpha=0.5)\n",
        "axs[2,0].set_xlabel('PC1')\n",
        "axs[2,0].set_ylabel('PC2')\n",
        "axs[2,0].set_title(\"Labels reales en las PC1 y PC2\")\n",
        "axs[2,1].scatter(x[:,2],x[:,3],s=5,c=df_combi[\"label_num\"], alpha=0.5)\n",
        "axs[2,1].set_xlabel('PC3')\n",
        "axs[2,1].set_ylabel('PC4')\n",
        "axs[2,1].set_title(\"Labels reales en las PC3 y PC4\")\n",
        "fig.suptitle(\"BisectingKMeans 5 clusters\", fontsize=36)"
      ]
    },
    {
      "cell_type": "code",
      "execution_count": null,
      "metadata": {
        "colab": {
          "background_save": true
        },
        "id": "pqTsEb9_YdBY"
      },
      "outputs": [],
      "source": [
        "range_k = range(2,12)\n",
        "silh = []\n",
        "sse = []\n",
        "for k in range_k:\n",
        "    model_calc = BisectingKMeans(n_clusters=k).fit(x)\n",
        "    silh.append(silhouette_score(x,model_calc.labels_))\n",
        "    sse.append(sum_sse(model_calc))\n",
        "\n",
        "plt.plot(range_k,silh,'r.-')\n",
        "plt.ylabel('Silhuette promedio')\n",
        "plt.show()\n",
        "\n",
        "plt.plot(range_k,sse)\n",
        "plt.ylabel('SSE')\n",
        "plt.show()\n",
        "\n",
        "\n"
      ]
    },
    {
      "cell_type": "code",
      "execution_count": null,
      "metadata": {
        "colab": {
          "background_save": true
        },
        "id": "ymjSuqQoYdBY"
      },
      "outputs": [],
      "source": [
        "k = 5\n",
        "grafica_silhouette(biskmeans,x)"
      ]
    },
    {
      "cell_type": "code",
      "execution_count": null,
      "metadata": {
        "colab": {
          "background_save": true
        },
        "id": "GoZDd7FVYdBY"
      },
      "outputs": [],
      "source": [
        "print(\"Rand score ajustado: \",adjusted_rand_score(df_combi[\"label_num\"],biskmeans.labels_))\n",
        "#vanDongen\n",
        "df_combi[\"predicted\"] = biskmeans.labels_\n",
        "\n",
        "df_van = df_combi[[\"label_num\",\"predicted\"]]\n",
        "print(\"vanDongen: \",vanDongen(df_van))"
      ]
    },
    {
      "cell_type": "code",
      "execution_count": null,
      "metadata": {
        "colab": {
          "background_save": true
        },
        "id": "qWL9t8XvYdBY"
      },
      "outputs": [],
      "source": []
    },
    {
      "cell_type": "code",
      "execution_count": null,
      "metadata": {
        "colab": {
          "background_save": true
        },
        "id": "iJQLgXy4YdBY"
      },
      "outputs": [],
      "source": [
        "print(KM_meta.labels_)\n",
        "print(KM_meta.medoid_indices_)\n",
        "print(silhouette_score(x,KM_meta.labels_))\n",
        "print(sum_sse(KM_meta))\n",
        "silhouette_samples(x,KM_meta.labels_)"
      ]
    },
    {
      "cell_type": "code",
      "execution_count": null,
      "metadata": {
        "colab": {
          "background_save": true
        },
        "id": "yWK4RG42YdBZ"
      },
      "outputs": [],
      "source": [
        "range_k = range(2,12)\n",
        "silh = []\n",
        "sse = []\n",
        "for k in range_k:\n",
        "#    KM_meta = KMedoids(n_clusters=k,metric='precomputed',init='k-medoids++').fit(d_meta)\n",
        "    KM_meta = KMedoids(n_clusters=k,init='heuristic').fit(x)\n",
        "    silh.append(silhouette_score(x,KM_meta.labels_))\n",
        "    sse.append(sum_sse(KM_meta))\n",
        "\n",
        "plt.plot(range_k,silh,'r.-')\n",
        "plt.ylabel('Silhuette promedio')\n",
        "plt.show()\n",
        "\n",
        "plt.plot(range_k,sse)\n",
        "plt.ylabel('SSE')\n",
        "plt.show()\n",
        "\n"
      ]
    },
    {
      "cell_type": "code",
      "execution_count": null,
      "metadata": {
        "colab": {
          "background_save": true
        },
        "id": "-YQupkP7YdBZ"
      },
      "outputs": [],
      "source": [
        "import matplotlib.cm as cm\n",
        "\n",
        "def grafica_silhouette(KM,d):\n",
        "  silhouette_avg = silhouette_score(d,KM.labels_,metric='euclidean')\n",
        "  sample_silhouette_values = silhouette_samples(d,KM.labels_,metric='euclidean')\n",
        "\n",
        "  plt.rcParams['figure.figsize'] = (8,6)\n",
        "  plt.xlim([-0.1, 1])\n",
        "  plt.ylim([0, len(KM.labels_) + (k + 1) * 10])\n",
        "\n",
        "  y_lower = 10\n",
        "  for i in range(k):\n",
        "      ith_cluster_silhouette_values = sample_silhouette_values[KM.labels_ == i]\n",
        "\n",
        "      ith_cluster_silhouette_values.sort()\n",
        "\n",
        "      size_cluster_i = ith_cluster_silhouette_values.shape[0]\n",
        "      y_upper = y_lower + size_cluster_i\n",
        "\n",
        "      color = cm.nipy_spectral(float(i) / k)\n",
        "      plt.fill_betweenx(np.arange(y_lower, y_upper),\n",
        "                        0, ith_cluster_silhouette_values,\n",
        "                        facecolor=color, edgecolor=color, alpha=0.7)\n",
        "\n",
        "      plt.text(-0.05, y_lower + 0.5 * size_cluster_i, str(i))\n",
        "\n",
        "      y_lower = y_upper + 10\n",
        "\n",
        "  plt.title((\"Silhouette analysis for KMeans clustering on sample data \"\n",
        "                \"with k = %d\" % k),\n",
        "                fontsize=14, fontweight='bold')\n",
        "  plt.xlabel(\"The silhouette coefficient values\")\n",
        "  plt.ylabel(\"Cluster label\")\n",
        "\n",
        "  # The vertical line for average silhouette score of all the values\n",
        "  plt.axvline(x=silhouette_avg, color=\"red\", linestyle=\"--\")\n",
        "\n",
        "  plt.yticks([])  # Clear the yaxis labels / ticks\n",
        "  plt.xticks([-0.1, 0, 0.2, 0.4, 0.6, 0.8, 1])\n",
        "  plt.show()"
      ]
    },
    {
      "cell_type": "code",
      "execution_count": null,
      "metadata": {
        "colab": {
          "background_save": true
        },
        "id": "RzdRJvNHYdBZ"
      },
      "outputs": [],
      "source": [
        "k = 5\n",
        "KM_meta = KMedoids(n_clusters=k,metric='euclidean',init='heuristic').fit(x)\n",
        "grafica_silhouette(KM_meta,x)"
      ]
    },
    {
      "cell_type": "code",
      "execution_count": null,
      "metadata": {
        "colab": {
          "background_save": true
        },
        "id": "UuQNvk2lYdBZ"
      },
      "outputs": [],
      "source": [
        "k = 6\n",
        "KM_meta = KMedoids(n_clusters=k,metric='euclidean',init='heuristic').fit(x)\n",
        "grafica_silhouette(KM_meta,x)"
      ]
    },
    {
      "cell_type": "code",
      "execution_count": null,
      "metadata": {
        "colab": {
          "background_save": true
        },
        "id": "1ItQxrs1YdBZ"
      },
      "outputs": [],
      "source": [
        "k = 4\n",
        "KM_meta = KMedoids(n_clusters=k,metric='euclidean',init='heuristic').fit(x)\n",
        "grafica_silhouette(KM_meta,x)"
      ]
    },
    {
      "cell_type": "code",
      "execution_count": null,
      "metadata": {
        "colab": {
          "background_save": true
        },
        "id": "mCo047r9YdBZ"
      },
      "outputs": [],
      "source": [
        "df_combi[\"predicted\"] = KM_meta.labels_"
      ]
    },
    {
      "cell_type": "code",
      "execution_count": null,
      "metadata": {
        "colab": {
          "background_save": true
        },
        "id": "j1U3ALdvYdBZ"
      },
      "outputs": [],
      "source": [
        "df_combi[[\"predicted\",\"label_num\"]]"
      ]
    },
    {
      "cell_type": "code",
      "execution_count": null,
      "metadata": {
        "colab": {
          "background_save": true
        },
        "id": "_fTfDonCYdBZ"
      },
      "outputs": [],
      "source": [
        "from sklearn.metrics.cluster import adjusted_rand_score\n",
        "adjusted_rand_score(df_combi[\"label_num\"],df_combi[\"predicted\"])"
      ]
    },
    {
      "cell_type": "code",
      "execution_count": null,
      "metadata": {
        "colab": {
          "background_save": true
        },
        "id": "dj1Mw-ipYdBZ"
      },
      "outputs": [],
      "source": [
        "#función definida\n",
        "def vanDongen(ct):\n",
        "    n2=2*(sum(ct.apply(sum,axis=1)))\n",
        "    sumi = sum(ct.apply(np.max,axis=1))\n",
        "    sumj = sum(ct.apply(np.max,axis=0))\n",
        "    maxsumi = np.max(ct.apply(sum,axis=1))\n",
        "    maxsumj = np.max(ct.apply(sum,axis=0))\n",
        "    vd = (n2 - sumi - sumj)/(n2 - maxsumi - maxsumj)\n",
        "    return vd\n",
        "\n",
        "#vanDongen\n",
        "df_van = df_combi[[\"label_num\",\"predicted\"]]\n",
        "vanDongen(df_van)"
      ]
    },
    {
      "cell_type": "code",
      "execution_count": null,
      "metadata": {
        "colab": {
          "background_save": true
        },
        "id": "gTZEJzJLYdBZ"
      },
      "outputs": [],
      "source": [
        "#vanDongen\n",
        "df_van = df_combi[[\"label_num\",\"predicted\"]]\n",
        "vanDongen(df_van)"
      ]
    }
  ],
  "metadata": {
    "accelerator": "GPU",
    "colab": {
      "provenance": []
    },
    "kernelspec": {
      "display_name": "Python 3",
      "name": "python3"
    },
    "language_info": {
      "codemirror_mode": {
        "name": "ipython",
        "version": 3
      },
      "file_extension": ".py",
      "mimetype": "text/x-python",
      "name": "python",
      "nbconvert_exporter": "python",
      "pygments_lexer": "ipython3",
      "version": "3.10.12"
    }
  },
  "nbformat": 4,
  "nbformat_minor": 0
}
